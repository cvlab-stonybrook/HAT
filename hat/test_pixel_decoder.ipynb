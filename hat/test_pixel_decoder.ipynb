{
 "cells": [
  {
   "cell_type": "code",
   "execution_count": 1,
   "id": "451d5dee-e695-4d76-92ad-200427726129",
   "metadata": {},
   "outputs": [],
   "source": [
    "from detectron2.layers import ShapeSpec\n",
    "from pixel_decoder.msdeformattn import MSDeformAttnPixelDecoder\n",
    "import torch\n",
    "from detectron2.config import get_cfg\n",
    "from detectron2.modeling import build_backbone"
   ]
  },
  {
   "cell_type": "code",
   "execution_count": 2,
   "id": "ac379e6f-24ac-40ad-8c42-a8c24f18e7d5",
   "metadata": {},
   "outputs": [
    {
     "data": {
      "text/plain": [
       "<All keys matched successfully>"
      ]
     },
     "execution_count": 2,
     "metadata": {},
     "output_type": "execute_result"
    }
   ],
   "source": [
    "# Load deformable pixel decoder\n",
    "input_shape = {\"res2\": ShapeSpec(channels=256, stride=4),\n",
    "               \"res3\": ShapeSpec(channels=512, stride=8),\n",
    "               \"res4\": ShapeSpec(channels=1024, stride=16),\n",
    "               \"res5\": ShapeSpec(channels=2048, stride=32)}\n",
    "args = {\n",
    "    'input_shape': input_shape,\n",
    "    'conv_dim': 256, \n",
    "    'mask_dim': 256, \n",
    "    'norm': 'GN',\n",
    "    'transformer_dropout': 0.0, \n",
    "    'transformer_nheads': 8, \n",
    "    'transformer_dim_feedforward': 1024, \n",
    "    'transformer_enc_layers': 6, \n",
    "    'transformer_in_features': ['res3', 'res4', 'res5'], \n",
    "    'common_stride': 4,\n",
    "}\n",
    "\n",
    "msd = MSDeformAttnPixelDecoder(**args)\n",
    "\n",
    "msd_weights = torch.load('../../Mask2Former/pretrained_models/coco/MSDeformAttnPixelDecoder.pkl')\n",
    "msd.load_state_dict(msd_weights)"
   ]
  },
  {
   "cell_type": "code",
   "execution_count": 72,
   "id": "34b565cb-6b3a-4442-a879-500f994728f4",
   "metadata": {},
   "outputs": [
    {
     "data": {
      "text/plain": [
       "'/sensei-fs/users/zhiboy/projects/Mask2Former/pretrained_models/coco/R50.pkl'"
      ]
     },
     "execution_count": 72,
     "metadata": {},
     "output_type": "execute_result"
    }
   ],
   "source": [
    "cfg.MODEL.WEIGHTS"
   ]
  },
  {
   "cell_type": "code",
   "execution_count": 71,
   "id": "cc8bfb9a-5c13-4d15-9777-bb1319bf1a40",
   "metadata": {},
   "outputs": [
    {
     "data": {
      "text/plain": [
       "'/sensei-fs/users/zhiboy/projects/Mask2Former/pretrained_models/coco'"
      ]
     },
     "execution_count": 71,
     "metadata": {},
     "output_type": "execute_result"
    }
   ],
   "source": [
    "import os\n",
    "os.path.dirname(cfg.MODEL.WEIGHTS)"
   ]
  },
  {
   "cell_type": "code",
   "execution_count": 52,
   "id": "a087046c-ce36-48e4-a6bd-2765478d30c9",
   "metadata": {},
   "outputs": [
    {
     "name": "stderr",
     "output_type": "stream",
     "text": [
      "Config '../configs/resnet50.yaml' has no VERSION. Assuming it to be compatible with latest v2.\n"
     ]
    },
    {
     "data": {
      "text/plain": [
       "<All keys matched successfully>"
      ]
     },
     "execution_count": 52,
     "metadata": {},
     "output_type": "execute_result"
    }
   ],
   "source": [
    "# Load Detectrion2 Resnet50\n",
    "cfg = get_cfg()\n",
    "cfg.merge_from_file('../configs/resnet50.yaml')\n",
    "backbone = build_backbone(cfg)\n",
    "r50_weights = torch.load(cfg.MODEL.WEIGHTS)\n",
    "backbone.load_state_dict(r50_weights)"
   ]
  },
  {
   "cell_type": "code",
   "execution_count": 43,
   "id": "7679d3ff-543b-4c21-8cb9-c8d2555b5dc2",
   "metadata": {},
   "outputs": [],
   "source": [
    "inp = torch.randn(4, 3, 320, 512)"
   ]
  },
  {
   "cell_type": "code",
   "execution_count": 53,
   "id": "c1971953-4246-4249-b852-e0564cce0a4f",
   "metadata": {},
   "outputs": [],
   "source": [
    "features = backbone(inp)"
   ]
  },
  {
   "cell_type": "code",
   "execution_count": 54,
   "id": "79175839-4faf-4e94-82ec-71139b11266a",
   "metadata": {},
   "outputs": [],
   "source": [
    "a, b, c = msd.forward_features(features)"
   ]
  },
  {
   "cell_type": "code",
   "execution_count": 60,
   "id": "eb3c5119-1659-446c-ac87-180ab4e710b9",
   "metadata": {},
   "outputs": [
    {
     "data": {
      "text/plain": [
       "(torch.Size([4, 256, 80, 128]),\n",
       " torch.Size([4, 256, 10, 16]),\n",
       " [torch.Size([4, 256, 10, 16]),\n",
       "  torch.Size([4, 256, 20, 32]),\n",
       "  torch.Size([4, 256, 40, 64])])"
      ]
     },
     "execution_count": 60,
     "metadata": {},
     "output_type": "execute_result"
    }
   ],
   "source": [
    "a.shape, b.shape, [s.shape for s in c]"
   ]
  },
  {
   "cell_type": "code",
   "execution_count": 62,
   "id": "89cf592a-7b62-4c7c-9121-9b7e4cdc4c8c",
   "metadata": {},
   "outputs": [
    {
     "name": "stdout",
     "output_type": "stream",
     "text": [
      "res2 torch.Size([4, 256, 80, 128])\n",
      "res3 torch.Size([4, 512, 40, 64])\n",
      "res4 torch.Size([4, 1024, 20, 32])\n",
      "res5 torch.Size([4, 2048, 10, 16])\n"
     ]
    }
   ],
   "source": [
    "for k, v in features.items():\n",
    "    print(k, v.shape)"
   ]
  },
  {
   "cell_type": "code",
   "execution_count": null,
   "id": "008061a3-656a-417b-aae4-eb9ef84c11fd",
   "metadata": {},
   "outputs": [],
   "source": []
  }
 ],
 "metadata": {
  "kernelspec": {
   "display_name": "my_env",
   "language": "python",
   "name": "my_env"
  },
  "language_info": {
   "codemirror_mode": {
    "name": "ipython",
    "version": 3
   },
   "file_extension": ".py",
   "mimetype": "text/x-python",
   "name": "python",
   "nbconvert_exporter": "python",
   "pygments_lexer": "ipython3",
   "version": "3.8.13"
  }
 },
 "nbformat": 4,
 "nbformat_minor": 5
}
