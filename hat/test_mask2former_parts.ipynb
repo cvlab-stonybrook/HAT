{
 "cells": [
  {
   "cell_type": "code",
   "execution_count": 1,
   "id": "451d5dee-e695-4d76-92ad-200427726129",
   "metadata": {},
   "outputs": [
    {
     "name": "stderr",
     "output_type": "stream",
     "text": [
      "/home/zbyang/miniconda3/envs/cuda11.7/lib/python3.9/site-packages/tqdm/auto.py:22: TqdmWarning: IProgress not found. Please update jupyter and ipywidgets. See https://ipywidgets.readthedocs.io/en/stable/user_install.html\n",
      "  from .autonotebook import tqdm as notebook_tqdm\n"
     ]
    }
   ],
   "source": [
    "from detectron2.layers import ShapeSpec\n",
    "from pixel_decoder.msdeformattn import MSDeformAttnPixelDecoder\n",
    "from transformer_decoder.mask2former_transformer_decoder import MultiScaleMaskedTransformerDecoder\n",
    "import torch\n",
    "from detectron2.config import get_cfg\n",
    "from detectron2.modeling import build_backbone"
   ]
  },
  {
   "cell_type": "code",
   "execution_count": 5,
   "id": "1677c03d",
   "metadata": {},
   "outputs": [],
   "source": [
    "# Modify ckp weight names due to changes in Detectron2\n",
    "import pickle\n",
    "with open(\"../models/mask2former_R50_COCO_panoptic.pkl\", \"rb\") as f:\n",
    "    m2f_weights = pickle.load(f, encoding=\"latin1\")"
   ]
  },
  {
   "cell_type": "code",
   "execution_count": 30,
   "id": "39428ce2",
   "metadata": {},
   "outputs": [],
   "source": [
    "bb_weights = m2f_weights['model']\n",
    "bb_weights_new = bb_weights.copy()\n",
    "for k, v in bb_weights.items():\n",
    "    if k[:12] == 'backbone.res':\n",
    "        bb_weights_new[\"backbone.stages.\" + k[9:]] = v\n",
    "        bb_weights_new.pop(k)\n",
    "    elif \"pixel_decoder.pixel_decoder\" in k:\n",
    "        new_k = k.replace(\"pixel_decoder.pixel_decoder\", \"pixel_decoder\")\n",
    "        print(new_k)\n",
    "        bb_weights_new[new_k] = v\n",
    "        bb_weights_new.pop(k)"
   ]
  },
  {
   "cell_type": "code",
   "execution_count": null,
   "id": "dc24b829",
   "metadata": {},
   "outputs": [],
   "source": [
    "bb_weights_new.keys()"
   ]
  },
  {
   "cell_type": "code",
   "execution_count": 32,
   "id": "7de03d61",
   "metadata": {},
   "outputs": [],
   "source": [
    "m2f_weights['model'] = bb_weights_new\n",
    "with open(\"../models/mask2former_R50_COCO_panoptic_new.pkl\", \"wb\") as f:\n",
    "    pickle.dump(m2f_weights, f)"
   ]
  },
  {
   "cell_type": "code",
   "execution_count": 2,
   "id": "44de8f2e",
   "metadata": {},
   "outputs": [],
   "source": [
    "# Modify ckp weight names due to changes in Detectron2\n",
    "import pickle\n",
    "with open(\"../models/mask2former_R50_COCO_panoptic_new.pkl\", \"rb\") as f:\n",
    "    m2f_weights_new = pickle.load(f, encoding=\"latin1\")"
   ]
  },
  {
   "cell_type": "code",
   "execution_count": 3,
   "id": "51fae6e4",
   "metadata": {},
   "outputs": [],
   "source": [
    "mtd = torch.load('../pretrained_models/coco/M2F_R50_MSDeformAttnPixelDecoder.pkl', map_location='cpu')"
   ]
  },
  {
   "cell_type": "code",
   "execution_count": 9,
   "id": "3a2bea77",
   "metadata": {},
   "outputs": [
    {
     "data": {
      "text/plain": [
       "tensor(-17.9100)"
      ]
     },
     "execution_count": 9,
     "metadata": {},
     "output_type": "execute_result"
    }
   ],
   "source": [
    "mtd['transformer.encoder.layers.5.self_attn.sampling_offsets.weight'].sum()"
   ]
  },
  {
   "cell_type": "code",
   "execution_count": 8,
   "id": "1460e8e5",
   "metadata": {},
   "outputs": [
    {
     "data": {
      "text/plain": [
       "-17.910046"
      ]
     },
     "execution_count": 8,
     "metadata": {},
     "output_type": "execute_result"
    }
   ],
   "source": [
    "m2f_weights_new['model']['sem_seg_head.pixel_decoder.transformer.encoder.layers.5.self_attn.sampling_offsets.weight'].sum()"
   ]
  },
  {
   "cell_type": "code",
   "execution_count": 3,
   "id": "b4258bf3",
   "metadata": {},
   "outputs": [
    {
     "data": {
      "text/plain": [
       "<All keys matched successfully>"
      ]
     },
     "execution_count": 3,
     "metadata": {},
     "output_type": "execute_result"
    }
   ],
   "source": [
    "# Load the transformer decoder of Mask2Former\n",
    "args = {\n",
    "    \"in_channels\": 256,\n",
    "    \"mask_classification\": True,\n",
    "    \"num_classes\": 133,\n",
    "    \"hidden_dim\": 256,\n",
    "    \"num_queries\": 100,\n",
    "    \"nheads\": 8,\n",
    "    \"dim_feedforward\": 2048,\n",
    "    \"dec_layers\": 9,\n",
    "    \"pre_norm\": False,\n",
    "    \"mask_dim\": 256,\n",
    "    \"enforce_input_project\": False,\n",
    "}\n",
    "\n",
    "mtd = MultiScaleMaskedTransformerDecoder(**args)\n",
    "mtd_weights = torch.load('../pretrained_models/coco/maskformer2_R50_transformer_decoder.pkl')\n",
    "mtd.load_state_dict(mtd_weights)"
   ]
  },
  {
   "cell_type": "code",
   "execution_count": 3,
   "id": "ac379e6f-24ac-40ad-8c42-a8c24f18e7d5",
   "metadata": {},
   "outputs": [
    {
     "ename": "RuntimeError",
     "evalue": "Error(s) in loading state_dict for MSDeformAttnPixelDecoder:\n\tMissing key(s) in state_dict: \"lateral_convs.adapter_1.weight\", \"lateral_convs.adapter_1.norm.weight\", \"lateral_convs.adapter_1.norm.bias\", \"output_convs.layer_1.weight\", \"output_convs.layer_1.norm.weight\", \"output_convs.layer_1.norm.bias\". \n\tUnexpected key(s) in state_dict: \"adapter_1.weight\", \"adapter_1.norm.weight\", \"adapter_1.norm.bias\", \"layer_1.weight\", \"layer_1.norm.weight\", \"layer_1.norm.bias\". ",
     "output_type": "error",
     "traceback": [
      "\u001b[0;31m---------------------------------------------------------------------------\u001b[0m",
      "\u001b[0;31mRuntimeError\u001b[0m                              Traceback (most recent call last)",
      "Cell \u001b[0;32mIn[3], line 22\u001b[0m\n\u001b[1;32m     19\u001b[0m msd \u001b[39m=\u001b[39m MSDeformAttnPixelDecoder(\u001b[39m*\u001b[39m\u001b[39m*\u001b[39margs)\n\u001b[1;32m     21\u001b[0m msd_weights \u001b[39m=\u001b[39m torch\u001b[39m.\u001b[39mload(\u001b[39m'\u001b[39m\u001b[39m../pretrained_models/coco/maskformer2_R50_MSDeformAttnPixelDecoder.pkl\u001b[39m\u001b[39m'\u001b[39m)\n\u001b[0;32m---> 22\u001b[0m msd\u001b[39m.\u001b[39;49mload_state_dict(msd_weights)\n",
      "File \u001b[0;32m~/miniconda3/envs/cuda11.7/lib/python3.9/site-packages/torch/nn/modules/module.py:1671\u001b[0m, in \u001b[0;36mModule.load_state_dict\u001b[0;34m(self, state_dict, strict)\u001b[0m\n\u001b[1;32m   1666\u001b[0m         error_msgs\u001b[39m.\u001b[39minsert(\n\u001b[1;32m   1667\u001b[0m             \u001b[39m0\u001b[39m, \u001b[39m'\u001b[39m\u001b[39mMissing key(s) in state_dict: \u001b[39m\u001b[39m{}\u001b[39;00m\u001b[39m. \u001b[39m\u001b[39m'\u001b[39m\u001b[39m.\u001b[39mformat(\n\u001b[1;32m   1668\u001b[0m                 \u001b[39m'\u001b[39m\u001b[39m, \u001b[39m\u001b[39m'\u001b[39m\u001b[39m.\u001b[39mjoin(\u001b[39m'\u001b[39m\u001b[39m\"\u001b[39m\u001b[39m{}\u001b[39;00m\u001b[39m\"\u001b[39m\u001b[39m'\u001b[39m\u001b[39m.\u001b[39mformat(k) \u001b[39mfor\u001b[39;00m k \u001b[39min\u001b[39;00m missing_keys)))\n\u001b[1;32m   1670\u001b[0m \u001b[39mif\u001b[39;00m \u001b[39mlen\u001b[39m(error_msgs) \u001b[39m>\u001b[39m \u001b[39m0\u001b[39m:\n\u001b[0;32m-> 1671\u001b[0m     \u001b[39mraise\u001b[39;00m \u001b[39mRuntimeError\u001b[39;00m(\u001b[39m'\u001b[39m\u001b[39mError(s) in loading state_dict for \u001b[39m\u001b[39m{}\u001b[39;00m\u001b[39m:\u001b[39m\u001b[39m\\n\u001b[39;00m\u001b[39m\\t\u001b[39;00m\u001b[39m{}\u001b[39;00m\u001b[39m'\u001b[39m\u001b[39m.\u001b[39mformat(\n\u001b[1;32m   1672\u001b[0m                        \u001b[39mself\u001b[39m\u001b[39m.\u001b[39m\u001b[39m__class__\u001b[39m\u001b[39m.\u001b[39m\u001b[39m__name__\u001b[39m, \u001b[39m\"\u001b[39m\u001b[39m\\n\u001b[39;00m\u001b[39m\\t\u001b[39;00m\u001b[39m\"\u001b[39m\u001b[39m.\u001b[39mjoin(error_msgs)))\n\u001b[1;32m   1673\u001b[0m \u001b[39mreturn\u001b[39;00m _IncompatibleKeys(missing_keys, unexpected_keys)\n",
      "\u001b[0;31mRuntimeError\u001b[0m: Error(s) in loading state_dict for MSDeformAttnPixelDecoder:\n\tMissing key(s) in state_dict: \"lateral_convs.adapter_1.weight\", \"lateral_convs.adapter_1.norm.weight\", \"lateral_convs.adapter_1.norm.bias\", \"output_convs.layer_1.weight\", \"output_convs.layer_1.norm.weight\", \"output_convs.layer_1.norm.bias\". \n\tUnexpected key(s) in state_dict: \"adapter_1.weight\", \"adapter_1.norm.weight\", \"adapter_1.norm.bias\", \"layer_1.weight\", \"layer_1.norm.weight\", \"layer_1.norm.bias\". "
     ]
    }
   ],
   "source": [
    "# Load deformable pixel decoder\n",
    "input_shape = {\"res2\": ShapeSpec(channels=256, stride=4),\n",
    "               \"res3\": ShapeSpec(channels=512, stride=8),\n",
    "               \"res4\": ShapeSpec(channels=1024, stride=16),\n",
    "               \"res5\": ShapeSpec(channels=2048, stride=32)}\n",
    "args = {\n",
    "    'input_shape': input_shape,\n",
    "    'conv_dim': 256, \n",
    "    'mask_dim': 256, \n",
    "    'norm': 'GN',\n",
    "    'transformer_dropout': 0.0, \n",
    "    'transformer_nheads': 8, \n",
    "    'transformer_dim_feedforward': 1024, \n",
    "    'transformer_enc_layers': 6, \n",
    "    'transformer_in_features': ['res3', 'res4', 'res5'], \n",
    "    'common_stride': 4,\n",
    "}\n",
    "\n",
    "msd = MSDeformAttnPixelDecoder(**args)\n",
    "\n",
    "msd_weights = torch.load('../pretrained_models/coco/maskformer2_R50_MSDeformAttnPixelDecoder.pkl')\n",
    "msd.load_state_dict(msd_weights)"
   ]
  },
  {
   "cell_type": "code",
   "execution_count": 72,
   "id": "34b565cb-6b3a-4442-a879-500f994728f4",
   "metadata": {},
   "outputs": [
    {
     "data": {
      "text/plain": [
       "'/sensei-fs/users/zhiboy/projects/Mask2Former/pretrained_models/coco/R50.pkl'"
      ]
     },
     "execution_count": 72,
     "metadata": {},
     "output_type": "execute_result"
    }
   ],
   "source": [
    "cfg.MODEL.WEIGHTS"
   ]
  },
  {
   "cell_type": "code",
   "execution_count": 71,
   "id": "cc8bfb9a-5c13-4d15-9777-bb1319bf1a40",
   "metadata": {},
   "outputs": [
    {
     "data": {
      "text/plain": [
       "'/sensei-fs/users/zhiboy/projects/Mask2Former/pretrained_models/coco'"
      ]
     },
     "execution_count": 71,
     "metadata": {},
     "output_type": "execute_result"
    }
   ],
   "source": [
    "import os\n",
    "os.path.dirname(cfg.MODEL.WEIGHTS)"
   ]
  },
  {
   "cell_type": "code",
   "execution_count": 52,
   "id": "a087046c-ce36-48e4-a6bd-2765478d30c9",
   "metadata": {},
   "outputs": [
    {
     "name": "stderr",
     "output_type": "stream",
     "text": [
      "Config '../configs/resnet50.yaml' has no VERSION. Assuming it to be compatible with latest v2.\n"
     ]
    },
    {
     "data": {
      "text/plain": [
       "<All keys matched successfully>"
      ]
     },
     "execution_count": 52,
     "metadata": {},
     "output_type": "execute_result"
    }
   ],
   "source": [
    "# Load Detectrion2 Resnet50\n",
    "cfg = get_cfg()\n",
    "cfg.merge_from_file('../configs/resnet50.yaml')\n",
    "backbone = build_backbone(cfg)\n",
    "r50_weights = torch.load(cfg.MODEL.WEIGHTS)\n",
    "backbone.load_state_dict(r50_weights)"
   ]
  },
  {
   "cell_type": "code",
   "execution_count": 43,
   "id": "7679d3ff-543b-4c21-8cb9-c8d2555b5dc2",
   "metadata": {},
   "outputs": [],
   "source": [
    "inp = torch.randn(4, 3, 320, 512)"
   ]
  },
  {
   "cell_type": "code",
   "execution_count": 53,
   "id": "c1971953-4246-4249-b852-e0564cce0a4f",
   "metadata": {},
   "outputs": [],
   "source": [
    "features = backbone(inp)"
   ]
  },
  {
   "cell_type": "code",
   "execution_count": 54,
   "id": "79175839-4faf-4e94-82ec-71139b11266a",
   "metadata": {},
   "outputs": [],
   "source": [
    "a, b, c = msd.forward_features(features)"
   ]
  },
  {
   "cell_type": "code",
   "execution_count": 60,
   "id": "eb3c5119-1659-446c-ac87-180ab4e710b9",
   "metadata": {},
   "outputs": [
    {
     "data": {
      "text/plain": [
       "(torch.Size([4, 256, 80, 128]),\n",
       " torch.Size([4, 256, 10, 16]),\n",
       " [torch.Size([4, 256, 10, 16]),\n",
       "  torch.Size([4, 256, 20, 32]),\n",
       "  torch.Size([4, 256, 40, 64])])"
      ]
     },
     "execution_count": 60,
     "metadata": {},
     "output_type": "execute_result"
    }
   ],
   "source": [
    "a.shape, b.shape, [s.shape for s in c]"
   ]
  },
  {
   "cell_type": "code",
   "execution_count": 62,
   "id": "89cf592a-7b62-4c7c-9121-9b7e4cdc4c8c",
   "metadata": {},
   "outputs": [
    {
     "name": "stdout",
     "output_type": "stream",
     "text": [
      "res2 torch.Size([4, 256, 80, 128])\n",
      "res3 torch.Size([4, 512, 40, 64])\n",
      "res4 torch.Size([4, 1024, 20, 32])\n",
      "res5 torch.Size([4, 2048, 10, 16])\n"
     ]
    }
   ],
   "source": [
    "for k, v in features.items():\n",
    "    print(k, v.shape)"
   ]
  },
  {
   "cell_type": "code",
   "execution_count": null,
   "id": "008061a3-656a-417b-aae4-eb9ef84c11fd",
   "metadata": {},
   "outputs": [],
   "source": []
  }
 ],
 "metadata": {
  "kernelspec": {
   "display_name": "Python (cuda11.7)",
   "language": "python",
   "name": "cuda11.7"
  },
  "language_info": {
   "codemirror_mode": {
    "name": "ipython",
    "version": 3
   },
   "file_extension": ".py",
   "mimetype": "text/x-python",
   "name": "python",
   "nbconvert_exporter": "python",
   "pygments_lexer": "ipython3",
   "version": "3.9.15"
  },
  "vscode": {
   "interpreter": {
    "hash": "df9e343205dc9cfd41d12baebfeaa59d49d6ef914c1f2e83b3e3bd67c6cb248b"
   }
  }
 },
 "nbformat": 4,
 "nbformat_minor": 5
}
